{
 "metadata": {
  "name": "",
  "signature": "sha256:f8743fcd0c43de1170fd8205d9fd66f587334e01215154f420c22c6163cd564b"
 },
 "nbformat": 3,
 "nbformat_minor": 0,
 "worksheets": [
  {
   "cells": [
    {
     "cell_type": "code",
     "collapsed": false,
     "input": [
      "%matplotlib inline"
     ],
     "language": "python",
     "metadata": {},
     "outputs": [],
     "prompt_number": 1
    },
    {
     "cell_type": "code",
     "collapsed": false,
     "input": [
      "import cPickle as pickle\n",
      "import numpy as np"
     ],
     "language": "python",
     "metadata": {},
     "outputs": [],
     "prompt_number": 2
    },
    {
     "cell_type": "code",
     "collapsed": false,
     "input": [
      "with open(\"/Users/richard/Desktop/5500.pkl\") as f:\n",
      "    samplelist = pickle.load(f)\n",
      "    xpos = samplelist[0]\n",
      "    ypos = samplelist[1]\n",
      "    logls = samplelist[2]"
     ],
     "language": "python",
     "metadata": {},
     "outputs": [],
     "prompt_number": 445
    },
    {
     "cell_type": "code",
     "collapsed": false,
     "input": [
      "import matplotlib as mpl"
     ],
     "language": "python",
     "metadata": {},
     "outputs": [],
     "prompt_number": 446
    },
    {
     "cell_type": "markdown",
     "metadata": {},
     "source": [
      "Samples in empty space with no source should have a low likelihood, so the peak should be a loose upper bound of the log likelihood of noise/background. It is only computed from the median up because most noise or background samples should be below the median."
     ]
    },
    {
     "cell_type": "code",
     "collapsed": false,
     "input": [
      "b,c, image = mpl.pyplot.hist(logls, bins = 20, range = (np.median(logls), np.max(logls)))\n",
      "#this is very arbitrary\n",
      "mpl.pyplot.title(\"Histogram of posterior sample log likelihoods\")\n",
      "mpl.pyplot.xlabel(\"log likelihood\")\n",
      "mpl.pyplot.ylabel(\"count\")"
     ],
     "language": "python",
     "metadata": {},
     "outputs": [
      {
       "metadata": {},
       "output_type": "pyout",
       "prompt_number": 447,
       "text": [
        "<matplotlib.text.Text at 0x11fc6b210>"
       ]
      },
      {
       "metadata": {},
       "output_type": "display_data",
       "png": "[encoded data removed]",
       "text": [
        "<matplotlib.figure.Figure at 0x11f812250>"
       ]
      }
     ],
     "prompt_number": 447
    },
    {
     "cell_type": "markdown",
     "metadata": {},
     "source": [
      "The cutoff is decided as being the lower bound for the bin corresponding to the peak of the histogram"
     ]
    },
    {
     "cell_type": "code",
     "collapsed": false,
     "input": [
      "cutoff = c[np.argmax(b)]"
     ],
     "language": "python",
     "metadata": {},
     "outputs": [],
     "prompt_number": 448
    },
    {
     "cell_type": "code",
     "collapsed": false,
     "input": [
      "H, _, _ = np.histogram2d(xpos[logls > cutoff], ypos[logls > cutoff], weights = logls[logls > cutoff], normed=True)"
     ],
     "language": "python",
     "metadata": {},
     "outputs": [],
     "prompt_number": 449
    },
    {
     "cell_type": "code",
     "collapsed": false,
     "input": [
      "def count_peaks(arr):\n",
      "    #overcounts by quite a bit because of how it handles edges\n",
      "    count = 0\n",
      "    w, h = arr.shape\n",
      "    for i in range(w):\n",
      "        for j in range(h):\n",
      "            possible_positions = [(i-1, j-1), (i-1, j), (i-1, j+1), (i, j-1), (i, j+1), (i+1, j-1), (i+1, j), (i+1, j+1)]\n",
      "            possible_positions = filter(lambda (x,y): x >= 0 and y >= 0, possible_positions)\n",
      "            #remove too small\n",
      "            possible_positions = filter(lambda (x,y): x < w and y < h, possible_positions)\n",
      "            #remove too big\n",
      "            \n",
      "            peak = True\n",
      "            for (x,y) in possible_positions:\n",
      "                if arr[x,y] > arr[i,j]:\n",
      "                    peak = False\n",
      "                    break\n",
      "            if peak:\n",
      "                count += 1\n",
      "    return count"
     ],
     "language": "python",
     "metadata": {},
     "outputs": [],
     "prompt_number": 450
    },
    {
     "cell_type": "code",
     "collapsed": false,
     "input": [
      "clusters = count_peaks(H)\n",
      "print clusters"
     ],
     "language": "python",
     "metadata": {},
     "outputs": [
      {
       "output_type": "stream",
       "stream": "stdout",
       "text": [
        "9\n"
       ]
      }
     ],
     "prompt_number": 451
    },
    {
     "cell_type": "code",
     "collapsed": false,
     "input": [
      "pos = np.vstack((xpos[logls > cutoff], ypos[logls > cutoff])).T"
     ],
     "language": "python",
     "metadata": {},
     "outputs": [],
     "prompt_number": 452
    },
    {
     "cell_type": "code",
     "collapsed": false,
     "input": [
      "print pos.shape"
     ],
     "language": "python",
     "metadata": {},
     "outputs": [
      {
       "output_type": "stream",
       "stream": "stdout",
       "text": [
        "(1135, 2)\n"
       ]
      }
     ],
     "prompt_number": 453
    },
    {
     "cell_type": "code",
     "collapsed": false,
     "input": [
      "from sklearn import cluster\n",
      "import itertools\n",
      "model = cluster.KMeans(n_clusters=clusters)\n",
      "model.fit(pos)\n",
      "out = model.predict(pos)\n",
      "color_iter = itertools.cycle(['r', 'g', 'b', 'c', 'm', 'y', 'k'])\n",
      "for (i, color) in zip(range(len(model.cluster_centers_)), color_iter):\n",
      "    if not np.any(out == i):\n",
      "        continue\n",
      "    mpl.pyplot.scatter(pos[out == i, 0], pos[out == i, 1], .8, color=color)\n",
      "    title_string = \"K means with K = \" + str(clusters)\n",
      "    mpl.pyplot.title(title_string)"
     ],
     "language": "python",
     "metadata": {},
     "outputs": [
      {
       "metadata": {},
       "output_type": "display_data",
       "png": "[encoded data removed]",
       "text": [
        "<matplotlib.figure.Figure at 0x12077c7d0>"
       ]
      }
     ],
     "prompt_number": 457
    },
    {
     "cell_type": "code",
     "collapsed": false,
     "input": [
      "from sklearn import mixture\n",
      "from scipy import linalg\n",
      "import itertools\n",
      "model = mixture.GMM(n_components=clusters)\n",
      "model.fit(pos)\n",
      "out = model.predict(pos)\n",
      "color_iter = itertools.cycle(['r', 'g', 'b', 'c', 'm', 'y', 'k'])\n",
      "for (i, color, covar, mean) in zip(range(len(model.means_)), color_iter, model._get_covars(), model.means_):\n",
      "    if not np.any(out == i):\n",
      "        continue\n",
      "    splot = mpl.pyplot.subplot(2,1,1)\n",
      "    splot.scatter(pos[out == i, 0], pos[out == i, 1], .8, color=color)\n",
      "    title_string =  str(clusters) + \" component GMM\"\n",
      "    #splot.title(title_string)\n",
      "    \n",
      "    v, w = linalg.eigh(covar)\n",
      "    u = w[0] / linalg.norm(w[0])\n",
      "    angle = np.arctan(u[1] / u[0])\n",
      "    angle = 180 * angle / np.pi  # convert to degrees\n",
      "    ell = mpl.patches.Ellipse(mean, v[0], v[1], 180 + angle, color=color)\n",
      "    ell.set_clip_box(splot.bbox)\n",
      "    ell.set_alpha(0.5)\n",
      "    splot.add_artist(ell)"
     ],
     "language": "python",
     "metadata": {},
     "outputs": [
      {
       "output_type": "stream",
       "stream": "stderr",
       "text": [
        "-c:18: RuntimeWarning: divide by zero encountered in double_scalars\n"
       ]
      },
      {
       "metadata": {},
       "output_type": "display_data",
       "png": "[encoded data removed]",
       "text": [
        "<matplotlib.figure.Figure at 0x123241450>"
       ]
      }
     ],
     "prompt_number": 474
    },
    {
     "cell_type": "code",
     "collapsed": false,
     "input": [],
     "language": "python",
     "metadata": {},
     "outputs": []
    }
   ],
   "metadata": {}
  }
 ]
}